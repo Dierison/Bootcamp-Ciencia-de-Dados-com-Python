{
 "cells": [
  {
   "cell_type": "markdown",
   "metadata": {},
   "source": [
    "Descrição\n",
    "\n",
    "\n",
    "Para esse desafio, considere que você foi contratado por uma empresa bancária \n",
    "para auxiliar nas implementações e melhorias do sistema empresarial. Em uma \n",
    "análise inicial, foi identificado pela equipe financeira a necessidade de \n",
    "desenvolver uma solução que permita ao cliente equilibrar seu saldo bancário. \n",
    "Dessa forma, o programa deve solicitar uma entrada que representa o saldo atual\n",
    "do funcionário, e após, seja informado o valor de duas transações, sendo elas:\n",
    "um depósito e um saque. O programa deve atualizar o saldo com base nas \n",
    "transações e exibir o saldo final.\n",
    "\n",
    "Informação: As transações de depósito e retirada devem ser tratadas como valores \n",
    "positivos e negativos, respectivamente, para garantir que o cálculo do saldo \n",
    "final seja realizado corretamente."
   ]
  },
  {
   "cell_type": "markdown",
   "metadata": {},
   "source": [
    "Entrada\n",
    "\n",
    "\n",
    "saldoAtual: um número decimal representando o saldo atual da conta bancária.\n",
    "valorDeposito: um número decimal representando o valor a ser depositado na conta.\n",
    "valorRetirada: um número decimal representando o valor a ser retirado da conta.\n",
    "\n",
    "Regra de Formatação: Considere apenas uma casa decimal para esse desafio."
   ]
  },
  {
   "cell_type": "markdown",
   "metadata": {},
   "source": [
    "Saída\n",
    "\n",
    "\n",
    "Um número decimal que representa o saldo atualizado na conta bancária após o processamento das transações."
   ]
  },
  {
   "cell_type": "markdown",
   "metadata": {},
   "source": [
    "Exemplos\n",
    "\n",
    "\n",
    "A tabela abaixo apresenta exemplos com alguns dados de entrada e suas respectivas saídas esperadas. Certifique-se de testar seu programa com esses exemplos e com outros casos possíveis."
   ]
  },
  {
   "cell_type": "markdown",
   "metadata": {},
   "source": [
    "Entrada:\n",
    "\n",
    "\n",
    "1000\n",
    "500\n",
    "200\n",
    "\n",
    "\n",
    "Saída: Saldo atualizado na conta: 1300.0\n",
    "\n",
    "\n",
    "Entrada:\n",
    "\n",
    "\n",
    "100\n",
    "10\n",
    "50\n",
    "\n",
    "\n",
    "Saída: Saldo atualizado na conta: 60.0\n",
    "\n",
    "\n",
    "Entrada:\n",
    "\n",
    "\n",
    "4000\n",
    "1500\n",
    "200\t\n",
    "\n",
    "\n",
    "Saída: Saldo atualizado na conta: 5300.0"
   ]
  },
  {
   "cell_type": "code",
   "execution_count": null,
   "metadata": {},
   "outputs": [],
   "source": [
    "saldo_atual = float(input())\n",
    "valor_deposito = float(input())\n",
    "valor_retirada = float(input())\n",
    "\n",
    "#TODO: Calcular o saldo atualizado de acordo com a descrição deste desafio.\n",
    "saldo_atualizado = saldo_atual + valor_deposito - valor_retirada\n",
    "\n",
    "#TODO: Imprimir o a saída de conforme a tabela de exemplos (uma casa decimal).\n",
    "print(f'Saldo atualizado na conta: {saldo_atualizado:.1f}')"
   ]
  }
 ],
 "metadata": {
  "kernelspec": {
   "display_name": "Python 3",
   "language": "python",
   "name": "python3"
  },
  "language_info": {
   "name": "python",
   "version": "3.10.0"
  },
  "orig_nbformat": 4
 },
 "nbformat": 4,
 "nbformat_minor": 2
}
